{
 "cells": [
  {
   "cell_type": "markdown",
   "id": "a6b3be74",
   "metadata": {},
   "source": [
    "Import all libraries useful"
   ]
  },
  {
   "cell_type": "code",
   "execution_count": 1,
   "id": "c2b8570a-3aaf-4d33-9ae4-6f0008fab294",
   "metadata": {},
   "outputs": [
    {
     "name": "stdout",
     "output_type": "stream",
     "text": [
      "['.ipynb_checkpoints', 'chest_Xray', 'chest_Xray.zip', 'Para_Cell', 'Pneumonia.ipynb', 'xray_model.h5']\n"
     ]
    }
   ],
   "source": [
    "import numpy as np # forlinear algebra\n",
    "import pandas as pd\n",
    "import seaborn as sns\n",
    "import matplotlib.pyplot as plt #for plotting things\n",
    "import os\n",
    "from PIL import Image\n",
    "print(os.listdir(\"./\"))\n",
    "\n",
    "# Keras Libraries\n",
    "from tensorflow.keras.models import Sequential\n",
    "from tensorflow.keras.layers import Conv2D\n",
    "from tensorflow.keras.layers import MaxPooling2D\n",
    "from tensorflow.keras.layers import Flatten\n",
    "from tensorflow.keras.layers import Dense\n",
    "from tensorflow.keras.layers import Dropout\n",
    "from tensorflow.keras.preprocessing.image import ImageDataGenerator, load_img\n",
    "from sklearn.metrics import classification_report, confusion_matrix"
   ]
  },
  {
   "cell_type": "code",
   "execution_count": 2,
   "id": "41c38ef8-0630-4b4a-bf76-688b9744d447",
   "metadata": {},
   "outputs": [],
   "source": [
    "import zipfile\n",
    "with zipfile.ZipFile(\"./chest_Xray.zip\",\"r\") as zip_ref:\n",
    "    zip_ref.extractall('')"
   ]
  },
  {
   "cell_type": "code",
   "execution_count": 3,
   "id": "cbf81037-592e-4aac-a270-a4461d9bc1f6",
   "metadata": {},
   "outputs": [
    {
     "name": "stdout",
     "output_type": "stream",
     "text": [
      "['.DS_Store', 'test', 'train', 'val']\n"
     ]
    }
   ],
   "source": [
    "mainDIR = os.listdir('./chest_xray')\n",
    "print(mainDIR)"
   ]
  },
  {
   "cell_type": "markdown",
   "id": "d0f9f189",
   "metadata": {},
   "source": [
    "Define train, val and test folder images"
   ]
  },
  {
   "cell_type": "code",
   "execution_count": 4,
   "id": "5e9a24f3-203d-4a03-9833-c1b5db48d91a",
   "metadata": {},
   "outputs": [],
   "source": [
    "train_folder = './chest_xray/train/'\n",
    "val_folder = './chest_xray/val/'\n",
    "test_folder = './chest_xray/test'"
   ]
  },
  {
   "cell_type": "code",
   "execution_count": 5,
   "id": "719b1fbc-0bfa-4799-9e2f-9dc11a865b19",
   "metadata": {},
   "outputs": [],
   "source": [
    "os.listdir(train_folder)\n",
    "train_n = train_folder+'NORMAL/'\n",
    "train_p = train_folder+'PNEUMONIA/'"
   ]
  },
  {
   "cell_type": "markdown",
   "id": "472c2bef",
   "metadata": {},
   "source": [
    "Create Sequential model"
   ]
  },
  {
   "cell_type": "code",
   "execution_count": 6,
   "id": "2ce845ad-f352-4121-ac5d-05474a372bad",
   "metadata": {},
   "outputs": [],
   "source": [
    "cnn = Sequential()"
   ]
  },
  {
   "cell_type": "markdown",
   "id": "71af69d0",
   "metadata": {},
   "source": [
    "Add 2D Convolution, 2D Max Pooling, Flatten, Dense and compile it"
   ]
  },
  {
   "cell_type": "code",
   "execution_count": 7,
   "id": "bbce5ce6-6c40-42d5-8302-3d2b8165dd9a",
   "metadata": {},
   "outputs": [],
   "source": [
    "cnn.add(Conv2D(32, (3, 3), activation=\"relu\", input_shape=(224, 224, 3)))\n",
    "cnn.add(MaxPooling2D(pool_size = (2, 2)))\n",
    "\n",
    "cnn.add(Conv2D(64, (3, 3), activation=\"relu\", input_shape=(224, 224, 3)))\n",
    "cnn.add(MaxPooling2D(pool_size = (2, 2)))\n",
    "\n",
    "cnn.add(Conv2D(128, (3, 3), activation=\"relu\", input_shape=(224, 224, 3)))\n",
    "cnn.add(MaxPooling2D(pool_size = (2, 2)))\n",
    "\n",
    "cnn.add(Conv2D(256, (3, 3), activation=\"relu\", input_shape=(224, 224, 3)))\n",
    "cnn.add(MaxPooling2D(pool_size = (2, 2)))\n",
    "\n",
    "# Flatten the layer\n",
    "cnn.add(Flatten())\n",
    "\n",
    "cnn.add(Dropout(0.5))\n",
    "\n",
    "\n",
    "# Fully Connected Layers\n",
    "cnn.add(Dense(activation = 'relu', units = 512))\n",
    "cnn.add(Dense(activation = 'relu', units = 128))\n",
    "cnn.add(Dense(activation = 'relu', units = 64))\n",
    "cnn.add(Dense(activation = 'sigmoid', units = 1))\n",
    "\n",
    "# Compile the Neural network\n",
    "cnn.compile(optimizer = 'adam', loss = 'binary_crossentropy', metrics = ['accuracy'])"
   ]
  },
  {
   "cell_type": "code",
   "execution_count": 8,
   "id": "f27acaab-9770-4867-bffa-522245ac9d91",
   "metadata": {},
   "outputs": [],
   "source": [
    "batch_size = 16"
   ]
  },
  {
   "cell_type": "markdown",
   "id": "bd9c6b46",
   "metadata": {},
   "source": [
    "Generate new images to have better train data with ImageDataGenerator.\n",
    "Define Training set and Test set."
   ]
  },
  {
   "cell_type": "code",
   "execution_count": 9,
   "id": "a740db9b-6d0a-4a44-bf08-8061f66da25c",
   "metadata": {},
   "outputs": [
    {
     "name": "stdout",
     "output_type": "stream",
     "text": [
      "Found 5216 images belonging to 2 classes.\n",
      "Found 16 images belonging to 2 classes.\n",
      "Found 624 images belonging to 2 classes.\n"
     ]
    }
   ],
   "source": [
    "# Fitting the CNN to the images\n",
    "\n",
    "train_datagen = ImageDataGenerator(rescale = 1./255,\n",
    "                                   rotation_range=40,\n",
    "                                   width_shift_range=0.2,\n",
    "                                   height_shift_range=0.2,\n",
    "                                   shear_range = 0.2,\n",
    "                                   zoom_range = 0.2,\n",
    "                                   horizontal_flip = True)\n",
    "\n",
    "test_datagen = ImageDataGenerator(rescale = 1./255)  #Image normalization.\n",
    "\n",
    "training_set = train_datagen.flow_from_directory('./chest_xray/train',\n",
    "                                                 target_size = (224, 224),\n",
    "                                                 batch_size = batch_size,\n",
    "                                                 class_mode = 'binary')\n",
    "\n",
    "validation_generator = test_datagen.flow_from_directory('./chest_xray/val/',\n",
    "    target_size=(224, 224),\n",
    "    batch_size=batch_size,\n",
    "    class_mode='binary')\n",
    "\n",
    "test_set = test_datagen.flow_from_directory('./chest_xray/test',\n",
    "                                            target_size = (224, 224),\n",
    "                                            batch_size = batch_size,\n",
    "                                            class_mode = 'binary',\n",
    "                                            shuffle = False)"
   ]
  },
  {
   "cell_type": "code",
   "execution_count": 10,
   "id": "215e98ae-386e-40e5-88e5-cb9b5b4f8b18",
   "metadata": {},
   "outputs": [
    {
     "name": "stdout",
     "output_type": "stream",
     "text": [
      "Model: \"sequential\"\n",
      "_________________________________________________________________\n",
      "Layer (type)                 Output Shape              Param #   \n",
      "=================================================================\n",
      "conv2d (Conv2D)              (None, 222, 222, 32)      896       \n",
      "_________________________________________________________________\n",
      "max_pooling2d (MaxPooling2D) (None, 111, 111, 32)      0         \n",
      "_________________________________________________________________\n",
      "conv2d_1 (Conv2D)            (None, 109, 109, 64)      18496     \n",
      "_________________________________________________________________\n",
      "max_pooling2d_1 (MaxPooling2 (None, 54, 54, 64)        0         \n",
      "_________________________________________________________________\n",
      "conv2d_2 (Conv2D)            (None, 52, 52, 128)       73856     \n",
      "_________________________________________________________________\n",
      "max_pooling2d_2 (MaxPooling2 (None, 26, 26, 128)       0         \n",
      "_________________________________________________________________\n",
      "conv2d_3 (Conv2D)            (None, 24, 24, 256)       295168    \n",
      "_________________________________________________________________\n",
      "max_pooling2d_3 (MaxPooling2 (None, 12, 12, 256)       0         \n",
      "_________________________________________________________________\n",
      "flatten (Flatten)            (None, 36864)             0         \n",
      "_________________________________________________________________\n",
      "dropout (Dropout)            (None, 36864)             0         \n",
      "_________________________________________________________________\n",
      "dense (Dense)                (None, 512)               18874880  \n",
      "_________________________________________________________________\n",
      "dense_1 (Dense)              (None, 128)               65664     \n",
      "_________________________________________________________________\n",
      "dense_2 (Dense)              (None, 64)                8256      \n",
      "_________________________________________________________________\n",
      "dense_3 (Dense)              (None, 1)                 65        \n",
      "=================================================================\n",
      "Total params: 19,337,281\n",
      "Trainable params: 19,337,281\n",
      "Non-trainable params: 0\n",
      "_________________________________________________________________\n"
     ]
    }
   ],
   "source": [
    "cnn.summary()"
   ]
  },
  {
   "cell_type": "markdown",
   "id": "6e3968d5",
   "metadata": {},
   "source": [
    "Add EarlyStopping to avoid Overfitting"
   ]
  },
  {
   "cell_type": "code",
   "execution_count": 11,
   "id": "02df7321-ddb9-432a-92b4-fcb021b162da",
   "metadata": {},
   "outputs": [],
   "source": [
    "from tensorflow.keras.callbacks import EarlyStopping, ModelCheckpoint\n",
    "\n",
    "checkpoint = ModelCheckpoint('xray_model.h5', save_best_only=True)\n",
    "early_stop = EarlyStopping(monitor='val_loss',patience=10)"
   ]
  },
  {
   "cell_type": "markdown",
   "id": "8e53dcd1",
   "metadata": {},
   "source": [
    "Fit Model"
   ]
  },
  {
   "cell_type": "code",
   "execution_count": 12,
   "id": "fda51756-8176-4296-ac47-1d34fa21a1ff",
   "metadata": {},
   "outputs": [
    {
     "name": "stdout",
     "output_type": "stream",
     "text": [
      "Epoch 1/100\n",
      "326/326 [==============================] - 157s 455ms/step - loss: 0.4606 - accuracy: 0.7655 - val_loss: 0.7475 - val_accuracy: 0.5000\n",
      "Epoch 2/100\n",
      "326/326 [==============================] - 160s 490ms/step - loss: 0.3712 - accuracy: 0.8271 - val_loss: 0.5527 - val_accuracy: 0.6875\n",
      "Epoch 3/100\n",
      "326/326 [==============================] - 132s 405ms/step - loss: 0.3473 - accuracy: 0.8428 - val_loss: 0.6950 - val_accuracy: 0.6250\n",
      "Epoch 4/100\n",
      "326/326 [==============================] - 118s 362ms/step - loss: 0.3098 - accuracy: 0.8629 - val_loss: 0.8587 - val_accuracy: 0.5625\n",
      "Epoch 5/100\n",
      "326/326 [==============================] - 132s 406ms/step - loss: 0.2811 - accuracy: 0.8792 - val_loss: 0.5127 - val_accuracy: 0.6875\n",
      "Epoch 6/100\n",
      "326/326 [==============================] - 147s 452ms/step - loss: 0.2576 - accuracy: 0.8900 - val_loss: 0.6525 - val_accuracy: 0.6875\n",
      "Epoch 7/100\n",
      "326/326 [==============================] - 127s 389ms/step - loss: 0.2345 - accuracy: 0.9041 - val_loss: 0.3815 - val_accuracy: 0.8750\n",
      "Epoch 8/100\n",
      "326/326 [==============================] - 133s 407ms/step - loss: 0.2247 - accuracy: 0.9086 - val_loss: 0.4163 - val_accuracy: 0.8750\n",
      "Epoch 9/100\n",
      "326/326 [==============================] - 140s 430ms/step - loss: 0.2214 - accuracy: 0.9062 - val_loss: 0.7582 - val_accuracy: 0.7500\n",
      "Epoch 10/100\n",
      "326/326 [==============================] - 152s 467ms/step - loss: 0.2108 - accuracy: 0.9141 - val_loss: 0.5351 - val_accuracy: 0.6875\n",
      "Epoch 11/100\n",
      "326/326 [==============================] - 153s 468ms/step - loss: 0.1958 - accuracy: 0.9191 - val_loss: 0.7424 - val_accuracy: 0.7500\n",
      "Epoch 12/100\n",
      "326/326 [==============================] - 141s 431ms/step - loss: 0.1837 - accuracy: 0.9273 - val_loss: 0.6080 - val_accuracy: 0.7500\n",
      "Epoch 13/100\n",
      "326/326 [==============================] - 150s 459ms/step - loss: 0.1819 - accuracy: 0.9241 - val_loss: 0.3312 - val_accuracy: 0.7500\n",
      "Epoch 14/100\n",
      "326/326 [==============================] - 142s 435ms/step - loss: 0.1775 - accuracy: 0.9314 - val_loss: 0.5980 - val_accuracy: 0.7500\n",
      "Epoch 15/100\n",
      "326/326 [==============================] - 165s 506ms/step - loss: 0.1730 - accuracy: 0.9268 - val_loss: 0.5389 - val_accuracy: 0.8125\n",
      "Epoch 16/100\n",
      "326/326 [==============================] - 149s 458ms/step - loss: 0.1665 - accuracy: 0.9317 - val_loss: 0.6047 - val_accuracy: 0.6875\n",
      "Epoch 17/100\n",
      "326/326 [==============================] - 140s 430ms/step - loss: 0.1624 - accuracy: 0.9316 - val_loss: 0.7950 - val_accuracy: 0.6875\n",
      "Epoch 18/100\n",
      "326/326 [==============================] - 141s 433ms/step - loss: 0.1623 - accuracy: 0.9381 - val_loss: 0.4640 - val_accuracy: 0.7500\n",
      "Epoch 19/100\n",
      "326/326 [==============================] - 130s 399ms/step - loss: 0.1564 - accuracy: 0.9373 - val_loss: 0.6341 - val_accuracy: 0.8125\n",
      "Epoch 20/100\n",
      "326/326 [==============================] - 122s 373ms/step - loss: 0.1519 - accuracy: 0.9425 - val_loss: 0.5722 - val_accuracy: 0.7500\n",
      "Epoch 21/100\n",
      "326/326 [==============================] - 118s 362ms/step - loss: 0.1505 - accuracy: 0.9394 - val_loss: 1.0513 - val_accuracy: 0.6875\n",
      "Epoch 22/100\n",
      "326/326 [==============================] - 137s 420ms/step - loss: 0.1498 - accuracy: 0.9402 - val_loss: 0.6014 - val_accuracy: 0.6875\n",
      "Epoch 23/100\n",
      "326/326 [==============================] - 153s 468ms/step - loss: 0.1502 - accuracy: 0.9394 - val_loss: 0.6517 - val_accuracy: 0.6250\n"
     ]
    }
   ],
   "source": [
    "cnn_model = cnn.fit(training_set,\n",
    "                         epochs = 100,\n",
    "                         validation_data = validation_generator,\n",
    "                         callbacks=[early_stop, checkpoint])"
   ]
  },
  {
   "cell_type": "code",
   "execution_count": 13,
   "id": "7c71ed54-3ce7-4f01-876a-8a55a6140c29",
   "metadata": {},
   "outputs": [],
   "source": [
    "metrics = pd.DataFrame(cnn_model.history)"
   ]
  },
  {
   "cell_type": "code",
   "execution_count": 14,
   "id": "0f937c35-7a99-4e41-aaa1-a9c78ee25e92",
   "metadata": {},
   "outputs": [
    {
     "data": {
      "text/plain": [
       "<AxesSubplot:>"
      ]
     },
     "execution_count": 14,
     "metadata": {},
     "output_type": "execute_result"
    },
    {
     "data": {
      "image/png": "[encoded data removed]",
      "text/plain": [
       "<Figure size 432x288 with 1 Axes>"
      ]
     },
     "metadata": {
      "needs_background": "light"
     },
     "output_type": "display_data"
    }
   ],
   "source": [
    "metrics[['accuracy', 'val_accuracy']].plot()"
   ]
  },
  {
   "cell_type": "code",
   "execution_count": 15,
   "id": "a723b7b8-eca1-490b-9aa1-948c1b6c8ec3",
   "metadata": {},
   "outputs": [
    {
     "data": {
      "text/plain": [
       "<AxesSubplot:>"
      ]
     },
     "execution_count": 15,
     "metadata": {},
     "output_type": "execute_result"
    },
    {
     "data": {
      "image/png": "[encoded data removed]",
      "text/plain": [
       "<Figure size 432x288 with 1 Axes>"
      ]
     },
     "metadata": {
      "needs_background": "light"
     },
     "output_type": "display_data"
    }
   ],
   "source": [
    "metrics[['loss', 'val_loss']].plot()"
   ]
  },
  {
   "cell_type": "markdown",
   "id": "17f2b7f1",
   "metadata": {},
   "source": [
    "Evaluate our model with test set"
   ]
  },
  {
   "cell_type": "code",
   "execution_count": 16,
   "id": "2918d11a-db3e-436b-afcb-6626a898f70d",
   "metadata": {},
   "outputs": [
    {
     "name": "stdout",
     "output_type": "stream",
     "text": [
      "39/39 [==============================] - 9s 219ms/step - loss: 0.3629 - accuracy: 0.8654\n"
     ]
    }
   ],
   "source": [
    "test_accu = cnn.evaluate(test_set)"
   ]
  },
  {
   "cell_type": "markdown",
   "id": "75a19d4b",
   "metadata": {},
   "source": [
    "Check the test accuracy %"
   ]
  },
  {
   "cell_type": "code",
   "execution_count": 17,
   "id": "255a8dda-59dc-4633-a730-03c12b8958ad",
   "metadata": {},
   "outputs": [
    {
     "name": "stdout",
     "output_type": "stream",
     "text": [
      "The test accuracy is : 86.53846383094788 %\n"
     ]
    }
   ],
   "source": [
    "print('The test accuracy is :', test_accu[1]*100, '%')"
   ]
  },
  {
   "cell_type": "code",
   "execution_count": 18,
   "id": "a39ade4b-b41f-4fb9-a3d4-567ddabdd3df",
   "metadata": {},
   "outputs": [
    {
     "data": {
      "text/plain": [
       "['loss', 'accuracy']"
      ]
     },
     "execution_count": 18,
     "metadata": {},
     "output_type": "execute_result"
    }
   ],
   "source": [
    "cnn.metrics_names"
   ]
  },
  {
   "cell_type": "code",
   "execution_count": 19,
   "id": "a6ae99ed-33df-4e10-bcdd-905f14ea9a61",
   "metadata": {},
   "outputs": [],
   "source": [
    "from tensorflow.keras.preprocessing import image"
   ]
  },
  {
   "cell_type": "code",
   "execution_count": 20,
   "id": "3647f943-9b8a-424a-8fff-92433a54c4cb",
   "metadata": {},
   "outputs": [],
   "source": [
    "pred_probabilities = cnn.predict(test_set)"
   ]
  },
  {
   "cell_type": "code",
   "execution_count": 21,
   "id": "46fa4b86-413e-49ad-9b6a-23eaa742fe03",
   "metadata": {},
   "outputs": [],
   "source": [
    "predictions = pred_probabilities > 0.8"
   ]
  },
  {
   "cell_type": "code",
   "execution_count": 22,
   "id": "7cfff7f0-7bb8-4324-a985-2e44b297e9a9",
   "metadata": {},
   "outputs": [
    {
     "name": "stdout",
     "output_type": "stream",
     "text": [
      "              precision    recall  f1-score   support\n",
      "\n",
      "           0       0.79      0.85      0.82       234\n",
      "           1       0.91      0.86      0.88       390\n",
      "\n",
      "    accuracy                           0.86       624\n",
      "   macro avg       0.85      0.86      0.85       624\n",
      "weighted avg       0.86      0.86      0.86       624\n",
      "\n"
     ]
    }
   ],
   "source": [
    "print(classification_report(test_set.classes,predictions))"
   ]
  },
  {
   "cell_type": "code",
   "execution_count": 23,
   "id": "55361806-5794-4e60-ab48-2dda861ea852",
   "metadata": {},
   "outputs": [
    {
     "data": {
      "text/plain": [
       "array([[200,  34],\n",
       "       [ 54, 336]], dtype=int64)"
      ]
     },
     "execution_count": 23,
     "metadata": {},
     "output_type": "execute_result"
    }
   ],
   "source": [
    "confusion_matrix(test_set.classes, predictions)"
   ]
  },
  {
   "cell_type": "markdown",
   "id": "e63586a5",
   "metadata": {},
   "source": [
    "Heatmap of confusion_matrix predictions to check precision of our model"
   ]
  },
  {
   "cell_type": "code",
   "execution_count": 24,
   "id": "1196c997-5b39-4163-b304-915278004eeb",
   "metadata": {},
   "outputs": [
    {
     "data": {
      "text/plain": [
       "<AxesSubplot:>"
      ]
     },
     "execution_count": 24,
     "metadata": {},
     "output_type": "execute_result"
    },
    {
     "data": {
      "image/png": "[encoded data removed]",
      "text/plain": [
       "<Figure size 432x288 with 2 Axes>"
      ]
     },
     "metadata": {
      "needs_background": "light"
     },
     "output_type": "display_data"
    }
   ],
   "source": [
    "sns.heatmap(confusion_matrix(test_set.classes,predictions),annot=True)"
   ]
  }
 ],
 "metadata": {
  "kernelspec": {
   "display_name": "Python 3 (ipykernel)",
   "language": "python",
   "name": "python3"
  },
  "language_info": {
   "codemirror_mode": {
    "name": "ipython",
    "version": 3
   },
   "file_extension": ".py",
   "mimetype": "text/x-python",
   "name": "python",
   "nbconvert_exporter": "python",
   "pygments_lexer": "ipython3",
   "version": "3.9.7"
  }
 },
 "nbformat": 4,
 "nbformat_minor": 5
}
