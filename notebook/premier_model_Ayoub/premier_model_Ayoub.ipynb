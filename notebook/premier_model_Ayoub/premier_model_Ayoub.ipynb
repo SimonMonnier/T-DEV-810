{
 "cells": [
  {
   "cell_type": "code",
   "execution_count": 3,
   "metadata": {
    "id": "y10zR1ZcSAsb"
   },
   "outputs": [],
   "source": [
    "from keras.models import Sequential\n",
    "from keras.layers import Conv2D\n",
    "from keras.layers import MaxPooling2D\n",
    "from keras.layers import Flatten\n",
    "from keras.layers import Dense\n",
    "from keras.preprocessing.image import ImageDataGenerator\n",
    "import numpy as np\n",
    "from keras.preprocessing import image\n",
    "import os\n",
    "import matplotlib.pyplot as plt\n",
    "import cv2\n",
    "from matplotlib.image import imread\n",
    "import seaborn as sns\n",
    "from tensorflow.keras.callbacks import EarlyStopping\n",
    "from sklearn.metrics import classification_report, confusion_matrix"
   ]
  },
  {
   "cell_type": "code",
   "execution_count": null,
   "metadata": {
    "id": "vD_pwC7Zlrva"
   },
   "outputs": [],
   "source": [
    "dim1 = []\n",
    "dim2 = []\n",
    "\n",
    "for image_filename in os.listdir('/content/chest_Xray/test/NORMAL/'):\n",
    "  img = imread('/content/chest_Xray/test/NORMAL'+'/'+image_filename)\n",
    "  d1,d2 = img.shape\n",
    "  dim1.append(d1)\n",
    "  dim2.append(d2)"
   ]
  },
  {
   "cell_type": "code",
   "execution_count": null,
   "metadata": {
    "colab": {
     "base_uri": "https://localhost:8080/",
     "height": 513
    },
    "id": "2dqRWOe-nO2F",
    "outputId": "d6bb3638-4b1c-4bed-cd67-953798fef9f9"
   },
   "outputs": [
    {
     "name": "stderr",
     "output_type": "stream",
     "text": [
      "/usr/local/lib/python3.7/dist-packages/seaborn/_decorators.py:43: FutureWarning: Pass the following variables as keyword args: x, y. From version 0.12, the only valid positional argument will be `data`, and passing other arguments without an explicit keyword will result in an error or misinterpretation.\n",
      "  FutureWarning\n"
     ]
    },
    {
     "data": {
      "text/plain": [
       "<seaborn.axisgrid.JointGrid at 0x7ff73a2fda90>"
      ]
     },
     "execution_count": 3,
     "metadata": {},
     "output_type": "execute_result"
    },
    {
     "data": {
      "image/png": "[encoded data removed]",
      "text/plain": [
       "<Figure size 432x432 with 3 Axes>"
      ]
     },
     "metadata": {
      "needs_background": "light"
     },
     "output_type": "display_data"
    }
   ],
   "source": [
    "sns.jointplot(dim1,dim2)"
   ]
  },
  {
   "cell_type": "code",
   "execution_count": null,
   "metadata": {
    "colab": {
     "base_uri": "https://localhost:8080/"
    },
    "id": "i5Tl1R0cnfvB",
    "outputId": "62fc191f-d69c-4f21-c80a-be1b3ba47194"
   },
   "outputs": [
    {
     "data": {
      "text/plain": [
       "1369.0897435897436"
      ]
     },
     "execution_count": 4,
     "metadata": {},
     "output_type": "execute_result"
    }
   ],
   "source": [
    "np.mean(dim1)"
   ]
  },
  {
   "cell_type": "code",
   "execution_count": null,
   "metadata": {
    "colab": {
     "base_uri": "https://localhost:8080/"
    },
    "id": "is_BU-F0nlok",
    "outputId": "953c7705-6bf9-47c3-aaeb-010d0f43426d"
   },
   "outputs": [
    {
     "data": {
      "text/plain": [
       "1800.3034188034187"
      ]
     },
     "execution_count": 5,
     "metadata": {},
     "output_type": "execute_result"
    }
   ],
   "source": [
    "np.mean(dim2)"
   ]
  },
  {
   "cell_type": "code",
   "execution_count": 4,
   "metadata": {
    "id": "y_zXegzAOsgc"
   },
   "outputs": [],
   "source": [
    "img_dims = 139\n",
    "img_dims2 = 180\n",
    "batch_size = 60"
   ]
  },
  {
   "cell_type": "code",
   "execution_count": 5,
   "metadata": {
    "id": "assWIlDcUVNw"
   },
   "outputs": [],
   "source": [
    "classifier = Sequential()\n",
    "\n",
    "classifier.add(Conv2D(32, (3, 3), input_shape =(img_dims,img_dims2,3), activation = 'relu'))\n",
    "classifier.add(MaxPooling2D(pool_size = (2, 2)))\n",
    "\n",
    "classifier.add(Conv2D(64, (3, 3), input_shape = (img_dims,img_dims2,3), activation = 'relu'))\n",
    "classifier.add(MaxPooling2D(pool_size = (2, 2)))\n",
    "\n",
    "classifier.add(Conv2D(128, (3, 3), input_shape = (img_dims,img_dims2,3), activation = 'relu'))\n",
    "classifier.add(MaxPooling2D(pool_size = (2, 2)))\n",
    "\n",
    "classifier.add(Conv2D(256, (3, 3), input_shape = (img_dims,img_dims2,3), activation = 'relu'))\n",
    "classifier.add(MaxPooling2D(pool_size = (2, 2)))\n",
    "\n",
    "classifier.add(Flatten())\n",
    "classifier.add(Dense(units = 128, activation = 'relu'))\n",
    "classifier.add(Dense(units = 64, activation = 'relu'))\n",
    "classifier.add(Dense(units = 32, activation = 'relu'))\n",
    "classifier.add(Dense(units = 1, activation = 'sigmoid'))"
   ]
  },
  {
   "cell_type": "code",
   "execution_count": 6,
   "metadata": {
    "id": "k3mYK-iibrYI"
   },
   "outputs": [],
   "source": [
    "classifier.compile(optimizer = 'adam', loss = 'binary_crossentropy', metrics = ['accuracy'])"
   ]
  },
  {
   "cell_type": "code",
   "execution_count": 13,
   "metadata": {
    "colab": {
     "base_uri": "https://localhost:8080/"
    },
    "id": "GUEW933cbwFw",
    "outputId": "6f5029e8-a79d-4803-f72a-f39bdcafd75e"
   },
   "outputs": [
    {
     "name": "stdout",
     "output_type": "stream",
     "text": [
      "Found 5216 images belonging to 2 classes.\n",
      "Found 624 images belonging to 2 classes.\n"
     ]
    }
   ],
   "source": [
    "input_path = r'C:/Users/smonn/Desktop/T8-AI&BigData_pdf/chest_Xray/chest_Xray/'\n",
    "train_datagen = ImageDataGenerator(rescale = 1./255,\n",
    "shear_range = 0.2,\n",
    "zoom_range = 0.2,\n",
    "horizontal_flip = True)\n",
    "test_datagen = ImageDataGenerator(rescale = 1./255)\n",
    "training_set = train_datagen.flow_from_directory(directory=input_path+'train',\n",
    "target_size = (img_dims, img_dims2),\n",
    "batch_size = batch_size,\n",
    "class_mode = 'binary')\n",
    "test_set = test_datagen.flow_from_directory(directory=input_path+'test',\n",
    "target_size = (img_dims, img_dims2),\n",
    "batch_size = batch_size,\n",
    "class_mode = 'binary')\n"
   ]
  },
  {
   "cell_type": "code",
   "execution_count": 14,
   "metadata": {
    "colab": {
     "base_uri": "https://localhost:8080/"
    },
    "id": "IneCFQVpb9YN",
    "outputId": "b09dc361-a3d2-47a8-ffd1-e549ee5a0618"
   },
   "outputs": [
    {
     "name": "stderr",
     "output_type": "stream",
     "text": [
      "C:\\Users\\smonn\\AppData\\Local\\Temp/ipykernel_17028/657435159.py:3: UserWarning: `Model.fit_generator` is deprecated and will be removed in a future version. Please use `Model.fit`, which supports generators.\n",
      "  hist = classifier.fit_generator(           training_set, steps_per_epoch=training_set.samples // batch_size,             epochs=epochs, validation_data=test_set,             validation_steps= test_set.samples, callbacks=[early_stop])\n"
     ]
    },
    {
     "name": "stdout",
     "output_type": "stream",
     "text": [
      "Epoch 1/20\n",
      "86/86 [==============================] - ETA: 0s - loss: 0.4981 - accuracy: 0.7665WARNING:tensorflow:Your input ran out of data; interrupting training. Make sure that your dataset or generator can generate at least `steps_per_epoch * epochs` batches (in this case, 624 batches). You may need to use the repeat() function when building your dataset.\n",
      "86/86 [==============================] - 84s 878ms/step - loss: 0.4981 - accuracy: 0.7665 - val_loss: 0.3880 - val_accuracy: 0.8141\n",
      "Epoch 2/20\n",
      "86/86 [==============================] - ETA: 0s - loss: 0.2504 - accuracy: 0.8916WARNING:tensorflow:Early stopping conditioned on metric `val_loss` which is not available. Available metrics are: loss,accuracy\n",
      "86/86 [==============================] - 50s 577ms/step - loss: 0.2504 - accuracy: 0.8916\n",
      "Epoch 3/20\n",
      "86/86 [==============================] - ETA: 0s - loss: 0.2166 - accuracy: 0.9116WARNING:tensorflow:Early stopping conditioned on metric `val_loss` which is not available. Available metrics are: loss,accuracy\n",
      "86/86 [==============================] - 51s 590ms/step - loss: 0.2166 - accuracy: 0.9116\n",
      "Epoch 4/20\n",
      "86/86 [==============================] - ETA: 0s - loss: 0.1873 - accuracy: 0.9277WARNING:tensorflow:Early stopping conditioned on metric `val_loss` which is not available. Available metrics are: loss,accuracy\n",
      "86/86 [==============================] - 50s 573ms/step - loss: 0.1873 - accuracy: 0.9277\n",
      "Epoch 5/20\n",
      "86/86 [==============================] - ETA: 0s - loss: 0.1577 - accuracy: 0.9397WARNING:tensorflow:Early stopping conditioned on metric `val_loss` which is not available. Available metrics are: loss,accuracy\n",
      "86/86 [==============================] - 48s 558ms/step - loss: 0.1577 - accuracy: 0.9397\n",
      "Epoch 6/20\n",
      "86/86 [==============================] - ETA: 0s - loss: 0.1776 - accuracy: 0.9335WARNING:tensorflow:Early stopping conditioned on metric `val_loss` which is not available. Available metrics are: loss,accuracy\n",
      "86/86 [==============================] - 50s 576ms/step - loss: 0.1776 - accuracy: 0.9335\n",
      "Epoch 7/20\n",
      "86/86 [==============================] - ETA: 0s - loss: 0.1393 - accuracy: 0.9482WARNING:tensorflow:Early stopping conditioned on metric `val_loss` which is not available. Available metrics are: loss,accuracy\n",
      "86/86 [==============================] - 48s 551ms/step - loss: 0.1393 - accuracy: 0.9482\n",
      "Epoch 8/20\n",
      "86/86 [==============================] - ETA: 0s - loss: 0.1368 - accuracy: 0.9478WARNING:tensorflow:Early stopping conditioned on metric `val_loss` which is not available. Available metrics are: loss,accuracy\n",
      "86/86 [==============================] - 48s 550ms/step - loss: 0.1368 - accuracy: 0.9478\n",
      "Epoch 9/20\n",
      "86/86 [==============================] - ETA: 0s - loss: 0.1434 - accuracy: 0.9472WARNING:tensorflow:Early stopping conditioned on metric `val_loss` which is not available. Available metrics are: loss,accuracy\n",
      "86/86 [==============================] - 48s 562ms/step - loss: 0.1434 - accuracy: 0.9472\n",
      "Epoch 10/20\n",
      "86/86 [==============================] - ETA: 0s - loss: 0.1434 - accuracy: 0.9474WARNING:tensorflow:Early stopping conditioned on metric `val_loss` which is not available. Available metrics are: loss,accuracy\n",
      "86/86 [==============================] - 48s 558ms/step - loss: 0.1434 - accuracy: 0.9474\n",
      "Epoch 11/20\n",
      "86/86 [==============================] - ETA: 0s - loss: 0.1252 - accuracy: 0.9498WARNING:tensorflow:Early stopping conditioned on metric `val_loss` which is not available. Available metrics are: loss,accuracy\n",
      "86/86 [==============================] - 49s 572ms/step - loss: 0.1252 - accuracy: 0.9498\n",
      "Epoch 12/20\n",
      "86/86 [==============================] - ETA: 0s - loss: 0.1217 - accuracy: 0.9533WARNING:tensorflow:Early stopping conditioned on metric `val_loss` which is not available. Available metrics are: loss,accuracy\n",
      "86/86 [==============================] - 49s 562ms/step - loss: 0.1217 - accuracy: 0.9533\n",
      "Epoch 13/20\n",
      "86/86 [==============================] - ETA: 0s - loss: 0.1095 - accuracy: 0.9585WARNING:tensorflow:Early stopping conditioned on metric `val_loss` which is not available. Available metrics are: loss,accuracy\n",
      "86/86 [==============================] - 49s 564ms/step - loss: 0.1095 - accuracy: 0.9585\n",
      "Epoch 14/20\n",
      "86/86 [==============================] - ETA: 0s - loss: 0.1209 - accuracy: 0.9554WARNING:tensorflow:Early stopping conditioned on metric `val_loss` which is not available. Available metrics are: loss,accuracy\n",
      "86/86 [==============================] - 48s 561ms/step - loss: 0.1209 - accuracy: 0.9554\n",
      "Epoch 15/20\n",
      "86/86 [==============================] - ETA: 0s - loss: 0.1043 - accuracy: 0.9606WARNING:tensorflow:Early stopping conditioned on metric `val_loss` which is not available. Available metrics are: loss,accuracy\n",
      "86/86 [==============================] - 50s 579ms/step - loss: 0.1043 - accuracy: 0.9606\n",
      "Epoch 16/20\n",
      "86/86 [==============================] - ETA: 0s - loss: 0.1137 - accuracy: 0.9569WARNING:tensorflow:Early stopping conditioned on metric `val_loss` which is not available. Available metrics are: loss,accuracy\n",
      "86/86 [==============================] - 49s 564ms/step - loss: 0.1137 - accuracy: 0.9569\n",
      "Epoch 17/20\n",
      "86/86 [==============================] - ETA: 0s - loss: 0.1034 - accuracy: 0.9614WARNING:tensorflow:Early stopping conditioned on metric `val_loss` which is not available. Available metrics are: loss,accuracy\n",
      "86/86 [==============================] - 49s 564ms/step - loss: 0.1034 - accuracy: 0.9614\n",
      "Epoch 18/20\n",
      "86/86 [==============================] - ETA: 0s - loss: 0.0926 - accuracy: 0.9641WARNING:tensorflow:Early stopping conditioned on metric `val_loss` which is not available. Available metrics are: loss,accuracy\n",
      "86/86 [==============================] - 49s 564ms/step - loss: 0.0926 - accuracy: 0.9641\n",
      "Epoch 19/20\n",
      "86/86 [==============================] - ETA: 0s - loss: 0.0964 - accuracy: 0.9657WARNING:tensorflow:Early stopping conditioned on metric `val_loss` which is not available. Available metrics are: loss,accuracy\n",
      "86/86 [==============================] - 48s 555ms/step - loss: 0.0964 - accuracy: 0.9657\n",
      "Epoch 20/20\n",
      "86/86 [==============================] - ETA: 0s - loss: 0.1030 - accuracy: 0.9600WARNING:tensorflow:Early stopping conditioned on metric `val_loss` which is not available. Available metrics are: loss,accuracy\n",
      "86/86 [==============================] - 48s 550ms/step - loss: 0.1030 - accuracy: 0.9600\n"
     ]
    }
   ],
   "source": [
    "epochs = 20  \n",
    "early_stop = EarlyStopping(monitor='val_loss', patience=2)\n",
    "hist = classifier.fit_generator(training_set, steps_per_epoch=training_set.samples // batch_size,\n",
    "                                epochs=epochs, validation_data=test_set,\n",
    "                                validation_steps= test_set.samples, callbacks=[early_stop])"
   ]
  },
  {
   "cell_type": "code",
   "execution_count": 15,
   "metadata": {
    "colab": {
     "base_uri": "https://localhost:8080/"
    },
    "id": "-6EMIfHifTM_",
    "outputId": "b8b0282c-40b1-45a5-b231-335510fd34d7"
   },
   "outputs": [],
   "source": [
    "pred_probabilities = classifier.predict(test_set)\n",
    "# classifier.save('/content/modelsave')"
   ]
  },
  {
   "cell_type": "code",
   "execution_count": 16,
   "metadata": {
    "colab": {
     "base_uri": "https://localhost:8080/"
    },
    "id": "J15MvU_4fglK",
    "outputId": "08abdade-ba14-4391-9cde-ff82da870efa"
   },
   "outputs": [
    {
     "data": {
      "text/plain": [
       "array([[0.23035672],\n",
       "       [0.99916625],\n",
       "       [0.38644415],\n",
       "       [0.3054657 ],\n",
       "       [0.9461255 ],\n",
       "       [0.917541  ],\n",
       "       [0.9999747 ],\n",
       "       [0.9999347 ],\n",
       "       [0.9986732 ],\n",
       "       [0.998754  ],\n",
       "       [0.08884248],\n",
       "       [0.06261795],\n",
       "       [0.99815387],\n",
       "       [0.99929726],\n",
       "       [0.9999995 ],\n",
       "       [0.19304729],\n",
       "       [0.97780526],\n",
       "       [0.8784801 ],\n",
       "       [0.45888737],\n",
       "       [0.96920377],\n",
       "       [0.99999726],\n",
       "       [0.95761436],\n",
       "       [0.9997577 ],\n",
       "       [0.98615426],\n",
       "       [0.99999034],\n",
       "       [0.9998369 ],\n",
       "       [0.9918338 ],\n",
       "       [0.9996872 ],\n",
       "       [0.9985203 ],\n",
       "       [0.99993885],\n",
       "       [0.90800244],\n",
       "       [0.21522173],\n",
       "       [0.999634  ],\n",
       "       [0.9919205 ],\n",
       "       [0.99999976],\n",
       "       [0.9999552 ],\n",
       "       [0.9840402 ],\n",
       "       [0.9991709 ],\n",
       "       [0.91639465],\n",
       "       [0.99999523],\n",
       "       [0.15029886],\n",
       "       [0.9993777 ],\n",
       "       [0.9999274 ],\n",
       "       [0.9616818 ],\n",
       "       [0.993284  ],\n",
       "       [0.9634219 ],\n",
       "       [0.25608975],\n",
       "       [0.9989191 ],\n",
       "       [0.01632561],\n",
       "       [0.9677793 ],\n",
       "       [0.9999918 ],\n",
       "       [0.9988116 ],\n",
       "       [0.9948319 ],\n",
       "       [0.10745836],\n",
       "       [0.12903722],\n",
       "       [0.01708907],\n",
       "       [0.2205008 ],\n",
       "       [0.99955744],\n",
       "       [0.9973802 ],\n",
       "       [0.9988562 ],\n",
       "       [0.5617649 ],\n",
       "       [0.13958399],\n",
       "       [0.16276956],\n",
       "       [0.9910415 ],\n",
       "       [0.9078889 ],\n",
       "       [0.98732877],\n",
       "       [0.9999573 ],\n",
       "       [0.17839664],\n",
       "       [0.07565754],\n",
       "       [0.99999607],\n",
       "       [0.07961631],\n",
       "       [0.09484307],\n",
       "       [0.8781421 ],\n",
       "       [0.9992575 ],\n",
       "       [0.99999654],\n",
       "       [0.9964445 ],\n",
       "       [0.99977845],\n",
       "       [0.9993042 ],\n",
       "       [0.05047744],\n",
       "       [0.99999845],\n",
       "       [0.99964154],\n",
       "       [0.03070485],\n",
       "       [0.999987  ],\n",
       "       [0.07814081],\n",
       "       [0.99985707],\n",
       "       [0.99998236],\n",
       "       [0.9677337 ],\n",
       "       [0.08442749],\n",
       "       [0.08153727],\n",
       "       [0.99988234],\n",
       "       [0.9999975 ],\n",
       "       [0.9999467 ],\n",
       "       [0.99991703],\n",
       "       [0.99923027],\n",
       "       [0.9926278 ],\n",
       "       [0.99986625],\n",
       "       [0.999998  ],\n",
       "       [0.48350617],\n",
       "       [0.00661732],\n",
       "       [0.9994635 ],\n",
       "       [0.02948727],\n",
       "       [0.98992085],\n",
       "       [0.27030006],\n",
       "       [0.1341514 ],\n",
       "       [0.07633051],\n",
       "       [0.98155653],\n",
       "       [0.47850674],\n",
       "       [0.9939692 ],\n",
       "       [0.99963725],\n",
       "       [0.96954525],\n",
       "       [0.96986747],\n",
       "       [0.06673574],\n",
       "       [0.36991578],\n",
       "       [0.10148157],\n",
       "       [0.01194144],\n",
       "       [0.99837226],\n",
       "       [0.8451276 ],\n",
       "       [0.9998522 ],\n",
       "       [0.99052215],\n",
       "       [0.999814  ],\n",
       "       [0.9859562 ],\n",
       "       [0.9999913 ],\n",
       "       [0.97001296],\n",
       "       [0.9879731 ],\n",
       "       [0.9995658 ],\n",
       "       [0.9998542 ],\n",
       "       [0.9999999 ],\n",
       "       [0.26129767],\n",
       "       [0.9999964 ],\n",
       "       [0.9938612 ],\n",
       "       [0.9152018 ],\n",
       "       [0.9973693 ],\n",
       "       [0.99262404],\n",
       "       [0.99725693],\n",
       "       [0.326138  ],\n",
       "       [0.99752444],\n",
       "       [0.43486416],\n",
       "       [0.1504914 ],\n",
       "       [0.92752916],\n",
       "       [0.996557  ],\n",
       "       [0.29916266],\n",
       "       [0.18173817],\n",
       "       [0.9706623 ],\n",
       "       [0.99785954],\n",
       "       [0.154798  ],\n",
       "       [0.14147377],\n",
       "       [0.19822805],\n",
       "       [0.00319401],\n",
       "       [0.9762245 ],\n",
       "       [0.9524915 ],\n",
       "       [0.01383378],\n",
       "       [0.96255916],\n",
       "       [0.89578754],\n",
       "       [0.99851924],\n",
       "       [0.08572755],\n",
       "       [0.9999727 ],\n",
       "       [0.9998209 ],\n",
       "       [0.99997306],\n",
       "       [0.9999876 ],\n",
       "       [0.99951196],\n",
       "       [0.9909053 ],\n",
       "       [0.99182546],\n",
       "       [0.9464996 ],\n",
       "       [0.99997735],\n",
       "       [0.19245988],\n",
       "       [0.9990287 ],\n",
       "       [0.99997425],\n",
       "       [0.13169792],\n",
       "       [0.9997564 ],\n",
       "       [0.9797133 ],\n",
       "       [0.0203841 ],\n",
       "       [0.16210823],\n",
       "       [0.999913  ],\n",
       "       [0.07072882],\n",
       "       [0.07310542],\n",
       "       [0.99998   ],\n",
       "       [0.03555042],\n",
       "       [0.9774728 ],\n",
       "       [0.13552807],\n",
       "       [0.5303547 ],\n",
       "       [0.03230952],\n",
       "       [0.04288487],\n",
       "       [0.9917705 ],\n",
       "       [0.8936588 ],\n",
       "       [0.99922144],\n",
       "       [0.95705926],\n",
       "       [0.27549565],\n",
       "       [0.06830999],\n",
       "       [0.9852331 ],\n",
       "       [0.9999169 ],\n",
       "       [0.9931079 ],\n",
       "       [0.99815255],\n",
       "       [0.99997246],\n",
       "       [0.11892986],\n",
       "       [0.99814653],\n",
       "       [0.98674667],\n",
       "       [0.9999796 ],\n",
       "       [0.9995714 ],\n",
       "       [0.997607  ],\n",
       "       [0.99935585],\n",
       "       [0.9999027 ],\n",
       "       [0.99805933],\n",
       "       [0.9934797 ],\n",
       "       [0.9998599 ],\n",
       "       [0.9999925 ],\n",
       "       [0.01936461],\n",
       "       [0.9785291 ],\n",
       "       [0.9866508 ],\n",
       "       [0.9999957 ],\n",
       "       [0.99865025],\n",
       "       [0.84208554],\n",
       "       [0.06442121],\n",
       "       [0.25135234],\n",
       "       [0.02328974],\n",
       "       [0.9484432 ],\n",
       "       [0.6070108 ],\n",
       "       [0.9746132 ],\n",
       "       [0.02376282],\n",
       "       [0.99182653],\n",
       "       [0.02568255],\n",
       "       [0.24449706],\n",
       "       [0.04500663],\n",
       "       [0.9988374 ],\n",
       "       [0.9998547 ],\n",
       "       [0.6436945 ],\n",
       "       [0.9962716 ],\n",
       "       [0.15763725],\n",
       "       [0.2285401 ],\n",
       "       [0.9969548 ],\n",
       "       [0.01131432],\n",
       "       [0.9911869 ],\n",
       "       [0.9999465 ],\n",
       "       [0.99999976],\n",
       "       [0.16616158],\n",
       "       [0.9719312 ],\n",
       "       [0.9991942 ],\n",
       "       [0.13968137],\n",
       "       [0.99801123],\n",
       "       [0.04837898],\n",
       "       [0.99930453],\n",
       "       [0.46667266],\n",
       "       [0.9999919 ],\n",
       "       [0.99817   ],\n",
       "       [0.9978727 ],\n",
       "       [0.05103086],\n",
       "       [0.7904791 ],\n",
       "       [1.        ],\n",
       "       [0.99707043],\n",
       "       [0.02851809],\n",
       "       [0.12998356],\n",
       "       [0.9990571 ],\n",
       "       [0.02773899],\n",
       "       [0.00821367],\n",
       "       [0.02807679],\n",
       "       [0.93042296],\n",
       "       [0.87251395],\n",
       "       [0.99993217],\n",
       "       [0.9996495 ],\n",
       "       [0.06018313],\n",
       "       [0.4294732 ],\n",
       "       [0.9997279 ],\n",
       "       [0.21650788],\n",
       "       [0.99966633],\n",
       "       [0.17070763],\n",
       "       [0.99965835],\n",
       "       [0.47690162],\n",
       "       [0.998963  ],\n",
       "       [0.9897676 ],\n",
       "       [0.32515162],\n",
       "       [0.0905174 ],\n",
       "       [0.9996728 ],\n",
       "       [0.6087888 ],\n",
       "       [0.12402052],\n",
       "       [0.02199797],\n",
       "       [0.22976711],\n",
       "       [0.76078385],\n",
       "       [0.97298354],\n",
       "       [0.9000745 ],\n",
       "       [0.9493743 ],\n",
       "       [0.9100913 ],\n",
       "       [0.99917597],\n",
       "       [0.07317553],\n",
       "       [0.9998752 ],\n",
       "       [0.34882653],\n",
       "       [0.05388694],\n",
       "       [0.07278394],\n",
       "       [0.9980629 ],\n",
       "       [0.9559968 ],\n",
       "       [0.9894209 ],\n",
       "       [0.0446489 ],\n",
       "       [0.95157355],\n",
       "       [0.9998995 ],\n",
       "       [0.9999428 ],\n",
       "       [0.9994117 ],\n",
       "       [0.06456576],\n",
       "       [0.9996673 ],\n",
       "       [0.9999603 ],\n",
       "       [0.99998665],\n",
       "       [0.9984983 ],\n",
       "       [0.28828686],\n",
       "       [0.9998926 ],\n",
       "       [0.9987109 ],\n",
       "       [0.99968255],\n",
       "       [0.9996191 ],\n",
       "       [0.9999788 ],\n",
       "       [0.67968816],\n",
       "       [0.77053374],\n",
       "       [0.04019262],\n",
       "       [0.9525298 ],\n",
       "       [0.14710623],\n",
       "       [0.9999491 ],\n",
       "       [0.97789496],\n",
       "       [0.99991214],\n",
       "       [0.9999572 ],\n",
       "       [0.9896702 ],\n",
       "       [0.9999896 ],\n",
       "       [0.01259444],\n",
       "       [0.98024243],\n",
       "       [0.99998796],\n",
       "       [0.9971372 ],\n",
       "       [0.9961553 ],\n",
       "       [0.23435517],\n",
       "       [0.80933917],\n",
       "       [0.9999465 ],\n",
       "       [0.07564728],\n",
       "       [0.18795459],\n",
       "       [0.9999968 ],\n",
       "       [0.89359254],\n",
       "       [0.9695318 ],\n",
       "       [0.9999831 ],\n",
       "       [0.99435836],\n",
       "       [0.340241  ],\n",
       "       [0.01310977],\n",
       "       [0.02856056],\n",
       "       [0.4019036 ],\n",
       "       [0.9999995 ],\n",
       "       [0.8147045 ],\n",
       "       [0.99972373],\n",
       "       [0.9999267 ],\n",
       "       [0.9999862 ],\n",
       "       [0.07017062],\n",
       "       [0.26226854],\n",
       "       [0.21534757],\n",
       "       [0.9991254 ],\n",
       "       [0.03408291],\n",
       "       [0.08124194],\n",
       "       [0.9999479 ],\n",
       "       [0.45630842],\n",
       "       [0.9996587 ],\n",
       "       [0.99997866],\n",
       "       [0.39328128],\n",
       "       [0.9998184 ],\n",
       "       [0.41185609],\n",
       "       [0.9996586 ],\n",
       "       [0.05652913],\n",
       "       [0.8182349 ],\n",
       "       [0.9879131 ],\n",
       "       [0.06921698],\n",
       "       [0.9657213 ],\n",
       "       [0.10877831],\n",
       "       [0.99984026],\n",
       "       [0.9919111 ],\n",
       "       [0.9971534 ],\n",
       "       [0.9985232 ],\n",
       "       [0.06262126],\n",
       "       [0.9988475 ],\n",
       "       [0.99557835],\n",
       "       [0.22702926],\n",
       "       [0.9998023 ],\n",
       "       [0.9919111 ],\n",
       "       [0.9998443 ],\n",
       "       [0.9999944 ],\n",
       "       [0.9601552 ],\n",
       "       [0.9981725 ],\n",
       "       [0.9996909 ],\n",
       "       [0.9979371 ],\n",
       "       [0.99999547],\n",
       "       [0.02855283],\n",
       "       [0.8294814 ],\n",
       "       [0.43082622],\n",
       "       [0.99934334],\n",
       "       [0.999966  ],\n",
       "       [0.04794697],\n",
       "       [0.9999918 ],\n",
       "       [0.8914057 ],\n",
       "       [0.951494  ],\n",
       "       [0.15763725],\n",
       "       [0.09052569],\n",
       "       [0.00417664],\n",
       "       [0.28264862],\n",
       "       [0.98129386],\n",
       "       [0.999956  ],\n",
       "       [0.13056259],\n",
       "       [0.02146173],\n",
       "       [0.9999012 ],\n",
       "       [0.9998049 ],\n",
       "       [0.8716517 ],\n",
       "       [0.993246  ],\n",
       "       [0.01739326],\n",
       "       [0.999998  ],\n",
       "       [0.10857579],\n",
       "       [0.998638  ],\n",
       "       [0.9995957 ],\n",
       "       [0.11492088],\n",
       "       [0.99989605],\n",
       "       [0.99999976],\n",
       "       [0.97489345],\n",
       "       [0.99990344],\n",
       "       [0.9970739 ],\n",
       "       [0.39580286],\n",
       "       [0.9998405 ],\n",
       "       [0.9999995 ],\n",
       "       [0.9993894 ],\n",
       "       [0.99999833],\n",
       "       [0.16328995],\n",
       "       [0.999602  ],\n",
       "       [0.814732  ],\n",
       "       [0.5617649 ],\n",
       "       [0.6498749 ],\n",
       "       [0.86439323],\n",
       "       [0.99997914],\n",
       "       [0.02534284],\n",
       "       [0.6200816 ],\n",
       "       [0.9997404 ],\n",
       "       [0.798095  ],\n",
       "       [0.9081924 ],\n",
       "       [0.998793  ],\n",
       "       [0.03309734],\n",
       "       [0.9956766 ],\n",
       "       [0.8531025 ],\n",
       "       [0.08311186],\n",
       "       [0.992293  ],\n",
       "       [0.9999478 ],\n",
       "       [0.99847525],\n",
       "       [0.24436128],\n",
       "       [0.13147251],\n",
       "       [0.94756573],\n",
       "       [0.9998915 ],\n",
       "       [0.999998  ],\n",
       "       [0.9951427 ],\n",
       "       [0.9705668 ],\n",
       "       [0.9869112 ],\n",
       "       [0.99864775],\n",
       "       [0.99995077],\n",
       "       [0.06769258],\n",
       "       [0.9482819 ],\n",
       "       [0.9999924 ],\n",
       "       [0.09474662],\n",
       "       [0.9983398 ],\n",
       "       [0.98665696],\n",
       "       [0.9845106 ],\n",
       "       [0.02810485],\n",
       "       [0.99999964],\n",
       "       [0.9999888 ],\n",
       "       [0.999931  ],\n",
       "       [0.9749746 ],\n",
       "       [0.99654335],\n",
       "       [0.9999285 ],\n",
       "       [0.99999475],\n",
       "       [0.99575883],\n",
       "       [0.05996509],\n",
       "       [0.0514939 ],\n",
       "       [0.96658784],\n",
       "       [0.9999008 ],\n",
       "       [0.89342874],\n",
       "       [0.0268652 ],\n",
       "       [0.99847525],\n",
       "       [0.996599  ],\n",
       "       [0.935785  ],\n",
       "       [0.9989392 ],\n",
       "       [0.9928727 ],\n",
       "       [0.06737584],\n",
       "       [0.6285236 ],\n",
       "       [0.2665052 ],\n",
       "       [0.9998561 ],\n",
       "       [0.7801551 ],\n",
       "       [0.09012625],\n",
       "       [0.08325659],\n",
       "       [0.99999976],\n",
       "       [0.78746754],\n",
       "       [0.0202533 ],\n",
       "       [0.9974733 ],\n",
       "       [0.8853393 ],\n",
       "       [0.9993088 ],\n",
       "       [0.99998975],\n",
       "       [0.13506095],\n",
       "       [0.9933913 ],\n",
       "       [0.9990445 ],\n",
       "       [0.9996853 ],\n",
       "       [0.22003347],\n",
       "       [0.17694879],\n",
       "       [0.9935776 ],\n",
       "       [0.9825334 ],\n",
       "       [0.2791292 ],\n",
       "       [0.9995648 ],\n",
       "       [0.23651847],\n",
       "       [0.9999367 ],\n",
       "       [0.9999876 ],\n",
       "       [0.9998945 ],\n",
       "       [0.9997069 ],\n",
       "       [0.20268883],\n",
       "       [0.1491672 ],\n",
       "       [0.28651905],\n",
       "       [0.9994628 ],\n",
       "       [0.9713879 ],\n",
       "       [0.9993748 ],\n",
       "       [0.99771786],\n",
       "       [0.9996793 ],\n",
       "       [0.9948    ],\n",
       "       [0.9996158 ],\n",
       "       [0.9993774 ],\n",
       "       [0.9999584 ],\n",
       "       [0.02853096],\n",
       "       [0.9962353 ],\n",
       "       [0.9996939 ],\n",
       "       [0.36822724],\n",
       "       [0.19893879],\n",
       "       [0.99147487],\n",
       "       [0.99697924],\n",
       "       [0.8852571 ],\n",
       "       [0.99991345],\n",
       "       [0.93425524],\n",
       "       [0.05992861],\n",
       "       [0.14751896],\n",
       "       [0.9992048 ],\n",
       "       [0.9982724 ],\n",
       "       [0.9999999 ],\n",
       "       [0.97649026],\n",
       "       [0.9994106 ],\n",
       "       [0.9996768 ],\n",
       "       [0.9999206 ],\n",
       "       [0.9385815 ],\n",
       "       [0.99678314],\n",
       "       [0.04638068],\n",
       "       [0.29289743],\n",
       "       [0.05246056],\n",
       "       [0.9695525 ],\n",
       "       [0.94080293],\n",
       "       [0.9985399 ],\n",
       "       [0.9960658 ],\n",
       "       [0.99983466],\n",
       "       [0.99998295],\n",
       "       [0.99996567],\n",
       "       [0.99965227],\n",
       "       [0.02272476],\n",
       "       [0.99978274],\n",
       "       [0.05888897],\n",
       "       [0.9941586 ],\n",
       "       [0.05260059],\n",
       "       [0.14822558],\n",
       "       [0.99791473],\n",
       "       [0.9993957 ],\n",
       "       [0.99850816],\n",
       "       [0.99924135],\n",
       "       [0.999652  ],\n",
       "       [0.9867111 ],\n",
       "       [0.04036151],\n",
       "       [0.07249262],\n",
       "       [0.99999964],\n",
       "       [0.01946225],\n",
       "       [0.9752425 ],\n",
       "       [0.09132402],\n",
       "       [0.42119357],\n",
       "       [0.06896494],\n",
       "       [0.32636052],\n",
       "       [0.9654198 ],\n",
       "       [0.9986117 ],\n",
       "       [0.79262084],\n",
       "       [0.19140619],\n",
       "       [0.99999297],\n",
       "       [0.10177603],\n",
       "       [0.99866927],\n",
       "       [0.04326484],\n",
       "       [0.1359399 ],\n",
       "       [0.00363325],\n",
       "       [0.99981016],\n",
       "       [0.02182214],\n",
       "       [0.08858202],\n",
       "       [0.99517965],\n",
       "       [0.99743205],\n",
       "       [0.9999676 ],\n",
       "       [0.9970091 ],\n",
       "       [0.35681304],\n",
       "       [0.03185058],\n",
       "       [0.99997234],\n",
       "       [0.99727315],\n",
       "       [0.06021531],\n",
       "       [0.97783947],\n",
       "       [0.9904068 ],\n",
       "       [0.20000446],\n",
       "       [0.08462574],\n",
       "       [0.0275332 ],\n",
       "       [0.608001  ],\n",
       "       [0.09149784],\n",
       "       [0.53618634],\n",
       "       [0.9909089 ],\n",
       "       [0.99606967],\n",
       "       [0.9985753 ],\n",
       "       [0.9999982 ],\n",
       "       [0.9562467 ],\n",
       "       [0.08395485],\n",
       "       [0.01954655],\n",
       "       [0.9902114 ],\n",
       "       [0.9985721 ],\n",
       "       [0.99987614],\n",
       "       [0.2882839 ],\n",
       "       [0.9981993 ],\n",
       "       [0.03252735],\n",
       "       [0.97229093],\n",
       "       [0.18614672],\n",
       "       [0.99998546],\n",
       "       [0.99963164],\n",
       "       [0.06655715],\n",
       "       [0.9938022 ],\n",
       "       [0.05715723],\n",
       "       [0.9957008 ],\n",
       "       [0.9937967 ],\n",
       "       [0.9999182 ],\n",
       "       [0.53221387],\n",
       "       [0.979282  ],\n",
       "       [0.835428  ],\n",
       "       [0.9999461 ],\n",
       "       [0.99997735],\n",
       "       [0.9856405 ]], dtype=float32)"
      ]
     },
     "execution_count": 16,
     "metadata": {},
     "output_type": "execute_result"
    }
   ],
   "source": [
    "pred_probabilities"
   ]
  },
  {
   "cell_type": "code",
   "execution_count": 17,
   "metadata": {
    "colab": {
     "base_uri": "https://localhost:8080/",
     "height": 363
    },
    "id": "earAuJSaOxNl",
    "outputId": "b5f3cd0f-d735-49bd-8859-4ae67d34dbeb"
   },
   "outputs": [
    {
     "ename": "IndexError",
     "evalue": "list index out of range",
     "output_type": "error",
     "traceback": [
      "\u001b[1;31m---------------------------------------------------------------------------\u001b[0m",
      "\u001b[1;31mIndexError\u001b[0m                                Traceback (most recent call last)",
      "\u001b[1;32m~\\AppData\\Local\\Temp/ipykernel_17028/3771201551.py\u001b[0m in \u001b[0;36m<module>\u001b[1;34m\u001b[0m\n\u001b[0;32m      1\u001b[0m \u001b[0mplt\u001b[0m\u001b[1;33m.\u001b[0m\u001b[0mfigure\u001b[0m\u001b[1;33m(\u001b[0m\u001b[0mfigsize\u001b[0m\u001b[1;33m=\u001b[0m\u001b[1;33m(\u001b[0m\u001b[1;36m10\u001b[0m\u001b[1;33m,\u001b[0m\u001b[1;36m6\u001b[0m\u001b[1;33m)\u001b[0m\u001b[1;33m)\u001b[0m\u001b[1;33m\u001b[0m\u001b[1;33m\u001b[0m\u001b[0m\n\u001b[1;32m----> 2\u001b[1;33m \u001b[0mpredictions\u001b[0m \u001b[1;33m=\u001b[0m \u001b[0mnp\u001b[0m\u001b[1;33m.\u001b[0m\u001b[0margmax\u001b[0m\u001b[1;33m(\u001b[0m\u001b[0mclassifier\u001b[0m\u001b[1;33m.\u001b[0m\u001b[0mpredict\u001b[0m\u001b[1;33m(\u001b[0m\u001b[0mimg_dims\u001b[0m\u001b[1;33m)\u001b[0m\u001b[1;33m,\u001b[0m\u001b[0maxis\u001b[0m\u001b[1;33m=\u001b[0m\u001b[1;36m1\u001b[0m\u001b[1;33m)\u001b[0m\u001b[1;33m\u001b[0m\u001b[1;33m\u001b[0m\u001b[0m\n\u001b[0m\u001b[0;32m      3\u001b[0m \u001b[0msns\u001b[0m\u001b[1;33m.\u001b[0m\u001b[0mheatmap\u001b[0m\u001b[1;33m(\u001b[0m\u001b[0mconfusion_matrix\u001b[0m\u001b[1;33m(\u001b[0m\u001b[0mimg_dims2\u001b[0m\u001b[1;33m,\u001b[0m\u001b[0mpredictions\u001b[0m\u001b[1;33m)\u001b[0m\u001b[1;33m,\u001b[0m\u001b[0mannot\u001b[0m\u001b[1;33m=\u001b[0m\u001b[1;32mTrue\u001b[0m\u001b[1;33m)\u001b[0m\u001b[1;33m\u001b[0m\u001b[1;33m\u001b[0m\u001b[0m\n",
      "\u001b[1;32m~\\anaconda3\\envs\\clean_env\\lib\\site-packages\\keras\\utils\\traceback_utils.py\u001b[0m in \u001b[0;36merror_handler\u001b[1;34m(*args, **kwargs)\u001b[0m\n\u001b[0;32m     65\u001b[0m     \u001b[1;32mexcept\u001b[0m \u001b[0mException\u001b[0m \u001b[1;32mas\u001b[0m \u001b[0me\u001b[0m\u001b[1;33m:\u001b[0m  \u001b[1;31m# pylint: disable=broad-except\u001b[0m\u001b[1;33m\u001b[0m\u001b[1;33m\u001b[0m\u001b[0m\n\u001b[0;32m     66\u001b[0m       \u001b[0mfiltered_tb\u001b[0m \u001b[1;33m=\u001b[0m \u001b[0m_process_traceback_frames\u001b[0m\u001b[1;33m(\u001b[0m\u001b[0me\u001b[0m\u001b[1;33m.\u001b[0m\u001b[0m__traceback__\u001b[0m\u001b[1;33m)\u001b[0m\u001b[1;33m\u001b[0m\u001b[1;33m\u001b[0m\u001b[0m\n\u001b[1;32m---> 67\u001b[1;33m       \u001b[1;32mraise\u001b[0m \u001b[0me\u001b[0m\u001b[1;33m.\u001b[0m\u001b[0mwith_traceback\u001b[0m\u001b[1;33m(\u001b[0m\u001b[0mfiltered_tb\u001b[0m\u001b[1;33m)\u001b[0m \u001b[1;32mfrom\u001b[0m \u001b[1;32mNone\u001b[0m\u001b[1;33m\u001b[0m\u001b[1;33m\u001b[0m\u001b[0m\n\u001b[0m\u001b[0;32m     68\u001b[0m     \u001b[1;32mfinally\u001b[0m\u001b[1;33m:\u001b[0m\u001b[1;33m\u001b[0m\u001b[1;33m\u001b[0m\u001b[0m\n\u001b[0;32m     69\u001b[0m       \u001b[1;32mdel\u001b[0m \u001b[0mfiltered_tb\u001b[0m\u001b[1;33m\u001b[0m\u001b[1;33m\u001b[0m\u001b[0m\n",
      "\u001b[1;32m~\\anaconda3\\envs\\clean_env\\lib\\site-packages\\tensorflow\\python\\framework\\tensor_shape.py\u001b[0m in \u001b[0;36m__getitem__\u001b[1;34m(self, key)\u001b[0m\n\u001b[0;32m    900\u001b[0m       \u001b[1;32melse\u001b[0m\u001b[1;33m:\u001b[0m\u001b[1;33m\u001b[0m\u001b[1;33m\u001b[0m\u001b[0m\n\u001b[0;32m    901\u001b[0m         \u001b[1;32mif\u001b[0m \u001b[0mself\u001b[0m\u001b[1;33m.\u001b[0m\u001b[0m_v2_behavior\u001b[0m\u001b[1;33m:\u001b[0m\u001b[1;33m\u001b[0m\u001b[1;33m\u001b[0m\u001b[0m\n\u001b[1;32m--> 902\u001b[1;33m           \u001b[1;32mreturn\u001b[0m \u001b[0mself\u001b[0m\u001b[1;33m.\u001b[0m\u001b[0m_dims\u001b[0m\u001b[1;33m[\u001b[0m\u001b[0mkey\u001b[0m\u001b[1;33m]\u001b[0m\u001b[1;33m.\u001b[0m\u001b[0mvalue\u001b[0m\u001b[1;33m\u001b[0m\u001b[1;33m\u001b[0m\u001b[0m\n\u001b[0m\u001b[0;32m    903\u001b[0m         \u001b[1;32melse\u001b[0m\u001b[1;33m:\u001b[0m\u001b[1;33m\u001b[0m\u001b[1;33m\u001b[0m\u001b[0m\n\u001b[0;32m    904\u001b[0m           \u001b[1;32mreturn\u001b[0m \u001b[0mself\u001b[0m\u001b[1;33m.\u001b[0m\u001b[0m_dims\u001b[0m\u001b[1;33m[\u001b[0m\u001b[0mkey\u001b[0m\u001b[1;33m]\u001b[0m\u001b[1;33m\u001b[0m\u001b[1;33m\u001b[0m\u001b[0m\n",
      "\u001b[1;31mIndexError\u001b[0m: list index out of range"
     ]
    },
    {
     "data": {
      "text/plain": [
       "<Figure size 720x432 with 0 Axes>"
      ]
     },
     "metadata": {},
     "output_type": "display_data"
    }
   ],
   "source": [
    "plt.figure(figsize=(10,6))\n",
    "predictions = np.argmax(classifier.predict(img_dims),axis=1)\n",
    "sns.heatmap(confusion_matrix(img_dims2,predictions),annot=True)"
   ]
  },
  {
   "cell_type": "code",
   "execution_count": 59,
   "metadata": {
    "id": "KwtXNr_kfpr-"
   },
   "outputs": [],
   "source": [
    "my_image = image.load_img(r'C:/Users/smonn/Desktop/T8-AI&BigData_pdf/chest_Xray/chest_Xray/val/PNEUMONIA/person1951_bacteria_4882.jpeg', target_size=(139,180))"
   ]
  },
  {
   "cell_type": "markdown",
   "metadata": {
    "id": "itbi9g_1xhBO"
   },
   "source": []
  },
  {
   "cell_type": "code",
   "execution_count": 60,
   "metadata": {
    "colab": {
     "base_uri": "https://localhost:8080/",
     "height": 156
    },
    "id": "nvbljqzmgL0t",
    "outputId": "5585c8b9-369f-4d5f-946b-3a5c14f4b768"
   },
   "outputs": [
    {
     "data": {
      "image/png": "[encoded data removed]",
      "text/plain": [
       "<PIL.Image.Image image mode=RGB size=180x139 at 0x1B225F4D760>"
      ]
     },
     "execution_count": 60,
     "metadata": {},
     "output_type": "execute_result"
    }
   ],
   "source": [
    "my_image"
   ]
  },
  {
   "cell_type": "code",
   "execution_count": 61,
   "metadata": {
    "id": "zQlr2iovgwBE"
   },
   "outputs": [],
   "source": [
    "my_image = image.img_to_array(my_image)"
   ]
  },
  {
   "cell_type": "code",
   "execution_count": 62,
   "metadata": {
    "id": "65mSdECRgxck"
   },
   "outputs": [],
   "source": [
    "my_image = np.expand_dims(my_image, axis=0)"
   ]
  },
  {
   "cell_type": "code",
   "execution_count": 63,
   "metadata": {
    "colab": {
     "base_uri": "https://localhost:8080/"
    },
    "id": "PjDyLwTKg22h",
    "outputId": "9f64aac4-2052-40cc-e2e5-3c5a9953d90f"
   },
   "outputs": [
    {
     "data": {
      "text/plain": [
       "array([[1]])"
      ]
     },
     "execution_count": 63,
     "metadata": {},
     "output_type": "execute_result"
    }
   ],
   "source": [
    "(classifier.predict(my_image) > 0.9).astype('int32')"
   ]
  },
  {
   "cell_type": "code",
   "execution_count": 58,
   "metadata": {
    "colab": {
     "base_uri": "https://localhost:8080/"
    },
    "id": "EEPMD-bVg5wh",
    "outputId": "bcaef737-1cbe-4605-9213-a1d65260fd8f"
   },
   "outputs": [
    {
     "data": {
      "text/plain": [
       "{'NORMAL': 0, 'PNEUMONIA': 1}"
      ]
     },
     "execution_count": 58,
     "metadata": {},
     "output_type": "execute_result"
    }
   ],
   "source": [
    "test_set.class_indices"
   ]
  },
  {
   "cell_type": "code",
   "execution_count": null,
   "metadata": {},
   "outputs": [],
   "source": []
  },
  {
   "cell_type": "code",
   "execution_count": null,
   "metadata": {},
   "outputs": [],
   "source": []
  },
  {
   "cell_type": "code",
   "execution_count": null,
   "metadata": {},
   "outputs": [],
   "source": []
  }
 ],
 "metadata": {
  "colab": {
   "collapsed_sections": [],
   "name": "Untitled0.ipynb",
   "provenance": []
  },
  "kernelspec": {
   "display_name": "Python 3 (ipykernel)",
   "language": "python",
   "name": "python3"
  },
  "language_info": {
   "codemirror_mode": {
    "name": "ipython",
    "version": 3
   },
   "file_extension": ".py",
   "mimetype": "text/x-python",
   "name": "python",
   "nbconvert_exporter": "python",
   "pygments_lexer": "ipython3",
   "version": "3.9.7"
  }
 },
 "nbformat": 4,
 "nbformat_minor": 1
}
